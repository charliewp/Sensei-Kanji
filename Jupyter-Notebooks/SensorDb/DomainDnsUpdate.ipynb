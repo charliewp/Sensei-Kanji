{
 "cells": [
  {
   "cell_type": "code",
   "execution_count": 78,
   "metadata": {},
   "outputs": [],
   "source": [
    "import requests"
   ]
  },
  {
   "cell_type": "code",
   "execution_count": 79,
   "metadata": {},
   "outputs": [
    {
     "name": "stdout",
     "output_type": "stream",
     "text": [
      "65.188.101.48\n"
     ]
    }
   ],
   "source": [
    "GET_MY_IP_URL = \"http://ipinfo.io/json\"\n",
    "try: \n",
    "  resp = requests.get(GET_MY_IP_URL, timeout=(15, 30))\n",
    "  response = resp.json()\n",
    "  myCurrentIp = response[\"ip\"]\n",
    "  print(myCurrentIp)\n",
    "except (requests.exceptions.ReadTimeout):\n",
    "  print(\"The call to ipinfo.io timed out!\")"
   ]
  },
  {
   "cell_type": "code",
   "execution_count": 80,
   "metadata": {},
   "outputs": [],
   "source": [
    "#GoDaddy Key and Secret\n",
    "#OTE\n",
    "#key = '3mM44UZCUz7vjW_VDKo69fWynUERU8oif6vvs'\n",
    "#secret = 'VDKvEwkNB2FoBTdb8LxX7u'\n",
    "#PROD\n",
    "key = '9EE7irUFoXu_Mhr3XQNr8FbRWCK8oNgWrf'\n",
    "secret = 'Mhr8nFctjmHu5E3FcqBGrP'\n",
    "\n",
    "domain = \"meshio.net\"\n",
    "type = \"A\"\n",
    "name = '@'"
   ]
  },
  {
   "cell_type": "code",
   "execution_count": 81,
   "metadata": {},
   "outputs": [
    {
     "name": "stdout",
     "output_type": "stream",
     "text": [
      "UPDATE_DNS_URL=https://api.godaddy.com/v1/domains/meshio.net\n",
      "headers={'Authorization': 'sso-key 9EE7irUFoXu_Mhr3XQNr8FbRWCK8oNgWrf:Mhr8nFctjmHu5E3FcqBGrP', 'Content-Type': 'application/json', 'Accept': 'application/json', 'x-debug': 'true'}\n",
      "rc=200\n",
      "{'authCode': 'E78:()N)610Q.C86', 'contactAdmin': {'addressMailing': {'address1': '10293 Hastings Place', 'address2': '', 'city': 'Harrisburg', 'country': 'US', 'postalCode': '28075', 'state': 'North Carolina'}, 'email': 'cprice9739@carolina.rr.com', 'fax': '', 'nameFirst': 'Charlie', 'nameLast': 'Price', 'organization': 'Holobox Systems', 'phone': '+1.7045311568'}, 'contactBilling': {'addressMailing': {'address1': '10293 Hastings Place', 'address2': '', 'city': 'Harrisburg', 'country': 'US', 'postalCode': '28075', 'state': 'North Carolina'}, 'email': 'cprice9739@carolina.rr.com', 'fax': '', 'nameFirst': 'Charlie', 'nameLast': 'Price', 'organization': 'Holobox Systems', 'phone': '+1.7045311568'}, 'contactRegistrant': {'addressMailing': {'address1': '10293 Hastings Place', 'address2': '', 'city': 'Harrisburg', 'country': 'US', 'postalCode': '28075', 'state': 'North Carolina'}, 'email': 'cprice9739@carolina.rr.com', 'fax': '', 'nameFirst': 'Charlie', 'nameLast': 'Price', 'organization': 'Holobox Systems', 'phone': '+1.7045311568'}, 'contactTech': {'addressMailing': {'address1': '10293 Hastings Place', 'address2': '', 'city': 'Harrisburg', 'country': 'US', 'postalCode': '28075', 'state': 'North Carolina'}, 'email': 'cprice9739@carolina.rr.com', 'fax': '', 'nameFirst': 'Charlie', 'nameLast': 'Price', 'organization': 'Holobox Systems', 'phone': '+1.7045311568'}, 'createdAt': '2019-03-23T13:14:36.000Z', 'domain': 'meshio.net', 'domainId': 289220678, 'expirationProtected': False, 'expires': '2020-03-23T13:14:36.000Z', 'holdRegistrar': False, 'locked': True, 'nameServers': ['ns51.domaincontrol.com', 'ns52.domaincontrol.com'], 'privacy': False, 'renewAuto': True, 'renewDeadline': '2020-05-07T11:14:32.000Z', 'renewable': True, 'status': 'ACTIVE', 'transferAwayEligibleAt': '2019-05-22T13:14:36.000Z', 'transferProtected': False}\n",
      "Content-Type : application/json\n",
      "Vary : Accept-Encoding\n",
      "Strict-Transport-Security : max-age=15724800; includeSubDomains\n",
      "X-Request-Id : 00b48618a1905bbd723d072da0da7ebc\n",
      "X-DataCenter : PHX3\n",
      "Content-Encoding : gzip\n",
      "Expires : Tue, 26 Mar 2019 13:50:25 GMT\n",
      "Cache-Control : max-age=0, no-cache, no-store\n",
      "Pragma : no-cache\n",
      "Date : Tue, 26 Mar 2019 13:50:25 GMT\n",
      "Content-Length : 511\n",
      "Connection : keep-alive\n"
     ]
    }
   ],
   "source": [
    "#OTE\n",
    "#UPDATE_DNS_URL = \"https://api.ote-godaddy.com/v1/domains/{0}\".format(domain)\n",
    "#PROD\n",
    "UPDATE_DNS_URL = \"https://api.godaddy.com/v1/domains/{0}\".format(domain)\n",
    "\n",
    "#UPDATE_DNS_URL = \"https://api.ote-godaddy.com/v1/domains/{0}/records/{1}/{2}\".format(domain,type,name)\n",
    "#UPDATE_DNS_URL = \"https://api.ote-godaddy.com/v1/domains/available?domain=holobox.com\"\n",
    "print(\"UPDATE_DNS_URL={0}\".format(UPDATE_DNS_URL))\n",
    "try: \n",
    "  headers = {}\n",
    "  headers[\"Authorization\"] = \"sso-key {0}:{1}\".format(key,secret)\n",
    "  headers[\"Content-Type\"] = \"application/json\"\n",
    "  headers[\"Accept\"] = \"application/json\"\n",
    "  headers[\"x-debug\"] = \"true\"\n",
    "  print(\"headers={0}\".format(headers))\n",
    "  resp = requests.get(UPDATE_DNS_URL, headers=headers, timeout=(15, 30))\n",
    "  print(\"rc={0}\".format(resp.status_code))\n",
    "  response = resp.json()  \n",
    "  print(response)\n",
    "  for header in resp.headers:\n",
    "        print(\"{0} : {1}\".format(header, resp.headers[header]))\n",
    "except (requests.exceptions.ReadTimeout):\n",
    "  print(\"The call to godaddy API timed out!\")"
   ]
  },
  {
   "cell_type": "code",
   "execution_count": null,
   "metadata": {},
   "outputs": [],
   "source": []
  }
 ],
 "metadata": {
  "kernelspec": {
   "display_name": "KanjiProjects",
   "language": "python",
   "name": "kanjiprojects"
  },
  "language_info": {
   "codemirror_mode": {
    "name": "ipython",
    "version": 3
   },
   "file_extension": ".py",
   "mimetype": "text/x-python",
   "name": "python",
   "nbconvert_exporter": "python",
   "pygments_lexer": "ipython3",
   "version": "3.7.2"
  }
 },
 "nbformat": 4,
 "nbformat_minor": 2
}
