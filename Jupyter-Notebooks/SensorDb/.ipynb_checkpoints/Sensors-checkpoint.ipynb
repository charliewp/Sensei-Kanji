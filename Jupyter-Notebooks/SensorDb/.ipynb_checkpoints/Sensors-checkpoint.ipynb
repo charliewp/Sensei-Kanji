{
 "cells": [
  {
   "cell_type": "markdown",
   "metadata": {},
   "source": [
    "#Sensor Types"
   ]
  },
  {
   "cell_type": "code",
   "execution_count": 1,
   "metadata": {},
   "outputs": [
    {
     "name": "stdout",
     "output_type": "stream",
     "text": [
      "Welcome to Jupyter Notebook.  You are connected to the SensorNet database!\n"
     ]
    }
   ],
   "source": [
    "import psycopg2 as pg\n",
    "import pandas.io.sql as psql\n",
    "from datetime import datetime\n",
    "conn_str = \"host={0} port={1} dbname={2} user={3} password={4}\" \\\n",
    ".format(\"localhost\", 5432, \"sensordb\", \"postgres\", \"w0lfpack\")\n",
    "\n",
    "try:\n",
    "    conn = pg.connect(conn_str)\n",
    "    print(\"Welcome to Jupyter Notebook.  You are connected to the SensorNet database!\")\n",
    "except pg.OperationalError:\n",
    "    print(\"You are not connected to the database.\")"
   ]
  },
  {
   "cell_type": "code",
   "execution_count": 4,
   "metadata": {},
   "outputs": [
    {
     "name": "stdout",
     "output_type": "stream",
     "text": [
      "SELECT type, tag, units FROM sensordb_sensortype sensor\n",
      "Today is 2019-02-13 14:31:36.517007\n",
      "The query returned the following:\n",
      "                 type            tag    units\n",
      "0         Air Quality     AIRQUALITY    RANGE\n",
      "1         Sound Level     SOUNDLEVEL    RANGE\n",
      "2         Light Level     LIGHTLEVEL    RANGE\n",
      "3     Motion Detector   MOTIONDETECT   BINARY\n",
      "4            Distance       DISTANCE   METERS\n",
      "5     Position Linear     POSNLINEAR  PERCENT\n",
      "6    Position Angular      POSNANGLE    RANGE\n",
      "7             Voltage        VOLTAGE    VOLTS\n",
      "8            Humidity       HUMIDITY      %RH\n",
      "9             Current        CURRENT     AMPS\n",
      "10          Flow Rate       FLOWRATE      GPM\n",
      "11      Battery Gauge      BATTGAUGE    VOLTS\n",
      "12      CPU Average %     CPUAVERAGE    RANGE\n",
      "13           Free RAM        RAMFREE   KBYTES\n",
      "14           WiFi SSI        WIFISSI    RANGE\n",
      "15       Cellular SSI        CELLSSI    RANGE\n",
      "16           Mesh SSI        MESHSSI    RANGE\n",
      "17           Moisture       MOISTURE    RANGE\n",
      "18  Switch Open/Close         SWITCH   BINARY\n",
      "19       Weight/Force    WEIGHTFORCE    GRAMS\n",
      "20            Tension        TENSION    GRAMS\n",
      "21           Pressure       PRESSURE      PSI\n",
      "22       Speed Linear    SPEEDLINEAR      FPS\n",
      "23      Speed Angular   SPEEDANGULAR  RAD/SEC\n",
      "24         Tachometer     TACHOMETER      RPM\n",
      "25       Gas Detector      GASDETECT    RANGE\n",
      "26     Smoke Detector    SMOKEDETECT    RANGE\n",
      "27         Wind Speed      WINDSPEED      MPH\n",
      "28     Wind Direction  WINDDIRECTION  DEGREES\n",
      "29      Temperature F   TEMPDEGREESF        F\n",
      "30      Temperature C   TEMPDEGREESC        C\n"
     ]
    }
   ],
   "source": [
    "query = \"SELECT type, tag, units FROM sensordb_sensortype sensor\" \n",
    "print(query)\n",
    "\n",
    "print(\"Today is {0}\".format(datetime.now()))\n",
    "df1 = psql.read_sql(query, conn)\n",
    "nRows = df1.size\n",
    "if nRows > 0:\n",
    "    print(\"The query returned the following:\")\n",
    "    print(df1.head(10000))\n",
    "else:\n",
    "    print(\"The query returned empty.\")"
   ]
  },
  {
   "cell_type": "code",
   "execution_count": null,
   "metadata": {},
   "outputs": [],
   "source": []
  }
 ],
 "metadata": {
  "kernelspec": {
   "display_name": "Python 3",
   "language": "python",
   "name": "python3"
  },
  "language_info": {
   "codemirror_mode": {
    "name": "ipython",
    "version": 3
   },
   "file_extension": ".py",
   "mimetype": "text/x-python",
   "name": "python",
   "nbconvert_exporter": "python",
   "pygments_lexer": "ipython3",
   "version": "3.6.4"
  }
 },
 "nbformat": 4,
 "nbformat_minor": 2
}
