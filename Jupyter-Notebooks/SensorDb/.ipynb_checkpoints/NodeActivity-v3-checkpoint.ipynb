{
 "cells": [
  {
   "cell_type": "code",
   "execution_count": 1,
   "metadata": {},
   "outputs": [
    {
     "name": "stdout",
     "output_type": "stream",
     "text": [
      "Welcome to Jupyter Notebook.  You are connected to the Kanji database!\n"
     ]
    }
   ],
   "source": [
    "import psycopg2 as pg\n",
    "import pandas.io.sql as psql\n",
    "from datetime import datetime\n",
    "import json\n",
    "\n",
    "conn_str = \"host={0} port={1} dbname={2} user={3} password={4}\" \\\n",
    ".format(\"localhost\", 5432, \"kanjidb\", \"postgres\", \"w0lfpack\")\n",
    "\n",
    "try:\n",
    "    conn = pg.connect(conn_str)\n",
    "    print(\"Welcome to Jupyter Notebook.  You are connected to the Kanji database!\")\n",
    "except pg.OperationalError:\n",
    "    print(\"You are not connected to the database.\")"
   ]
  },
  {
   "cell_type": "code",
   "execution_count": 29,
   "metadata": {},
   "outputs": [],
   "source": [
    "_STATUS_ONLINE = 10001\n",
    "_DEPLOY_STATE_MAINTENANCE = 10002\n",
    "_REPORT_INTERVAL_MINS = 560\n",
    "TEMPF_AVERAGE = 34\n",
    "TEMPF_CURRENT = 29\n"
   ]
  },
  {
   "cell_type": "code",
   "execution_count": 37,
   "metadata": {},
   "outputs": [
    {
     "name": "stdout",
     "output_type": "stream",
     "text": [
      "SELECT timestamp, eventdata FROM kanji_eventlog eventlog WHERE eventlog.timestamp>= NOW() - INTERVAL '560 minutes' AND (eventlog.node_id=10020)\n",
      "The query returned 1151 rows.\n",
      "There are 5 pins from this node.\n",
      "[31, 29, 34, 32, 33]\n",
      "1151\n"
     ]
    }
   ],
   "source": [
    "#now = datetime.datetime.now()\n",
    "#timestart = now - datetime.timedelta(hours=1, minutes=15)\n",
    "#querytime = timestart.strftime(\"%Y/%m/%d %H:%M:%S\")\n",
    "#print(\"report period {0} - {1}\".format(timestart, now))\n",
    "\n",
    "def isfloat(value):\n",
    "  try:\n",
    "    float(value)\n",
    "    return True\n",
    "  except ValueError:\n",
    "    return False\n",
    "\n",
    "def isint(value):\n",
    "  try:\n",
    "    int(value)\n",
    "    return True\n",
    "  except ValueError:\n",
    "    return False\n",
    "\n",
    "def pinindex(pinnums, k):\n",
    "    for i in range(len(pinnums)):\n",
    "        if pinnums[i]==k:\n",
    "            return i\n",
    "    return -1   \n",
    "\n",
    "query = \"SELECT timestamp, eventdata FROM kanji_eventlog eventlog WHERE eventlog.timestamp>= NOW() - INTERVAL '{0} minutes' \\\n",
    "AND (eventlog.node_id=10020)\".format(_REPORT_INTERVAL_MINS) \n",
    "\n",
    "print(query)\n",
    "\n",
    "#print(\"Today is {0}\".format(now))\n",
    "cur = conn.cursor()\n",
    "cur.execute(query)\n",
    "rows = cur.fetchall()\n",
    "if len(rows) > 0:\n",
    "    timedata = []\n",
    "    tempdata = []\n",
    "    tlstdata = []\n",
    "    ctladata = []\n",
    "    ctlbdata = []\n",
    "    dsetsbuilt = False\n",
    "    dsets = []\n",
    "    labels = []\n",
    "    pinnums = []\n",
    "    print(\"The query returned {0} rows.\".format(len(rows))) \n",
    "    for row in rows:\n",
    "        #print(row)\n",
    "        #timestamp = row[0].strftime(\"%m/%d/%Y %H:%M:%S\")\n",
    "        timestamp = row[0]\n",
    "        pins = json.loads(row[1])\n",
    "        if dsetsbuilt == False:\n",
    "          print(\"There are {0} pins from this node.\".format(len(pins)))\n",
    "          for i in range(len(pins)):\n",
    "             pintype = pins[i]['t']\n",
    "             dset = []\n",
    "             dsets.append(dset)\n",
    "             pinnums.append(pintype)\n",
    "             labelquery = \"SELECT description FROM kanji_sensortype WHERE idsensortype={0}\".format(pintype)\n",
    "             cur = conn.cursor()\n",
    "             cur.execute(labelquery)\n",
    "             label = cur.fetchone()[0]\n",
    "             labels.append(label)\n",
    "          print(pinnums)\n",
    "          dsetsbuilt = True\n",
    "        tstamp = False\n",
    "        for pin in pins:\n",
    "            if tstamp==False:\n",
    "              timedata.append(timestamp)\n",
    "              tstamp=True\n",
    "            pintype = pin['t']\n",
    "            pidx = pinindex(pinnums,pintype)\n",
    "            pinvalue = pin['v']\n",
    "            if isfloat(pinvalue):\n",
    "              #print(\"{0} {1}\".format(timestamp, pinvalue))\n",
    "              dsets[pidx].append(float(pinvalue))\n",
    "            elif: isint(pinvalue):\n",
    "              dsets[pidx].append(int(pinvalue))\n",
    "            else:\n",
    "              dsets[pidx].append(pinvalue)\n",
    "    print(len(timedata))\n",
    "    #for dset in dsets:\n",
    "    #  print(dset)\n",
    "    \n",
    "else:\n",
    "    print(\"The query returned empty.\")\n",
    "    "
   ]
  },
  {
   "cell_type": "code",
   "execution_count": 38,
   "metadata": {},
   "outputs": [
    {
     "data": {
      "image/png": "[encoded data removed]",
      "text/plain": [
       "<Figure size 432x288 with 1 Axes>"
      ]
     },
     "metadata": {
      "needs_background": "light"
     },
     "output_type": "display_data"
    }
   ],
   "source": [
    "import matplotlib.pyplot as plt\n",
    "import numpy as np\n",
    "\n",
    "colors = ['#e6194b', '#3cb44b', '#ffe119', '#4363d8', '#f58231', '#911eb4', '#46f0f0', '#f032e6', '#bcf60c', '#fabebe', '#008080', '#e6beff', '#9a6324', '#fffac8', '#800000', '#aaffc3', '#808000', '#ffd8b1', '#000075', '#808080', '#ffffff', '#000000']\n",
    "\n",
    "t = np.array(timedata)  \n",
    "\n",
    "#fig, host = plt.subplots()\n",
    "#fig.subplots_adjust(right=0.75)\n",
    "\n",
    "didx = 0\n",
    "pars = [] \n",
    "ps = []\n",
    "for label in labels:\n",
    "  if didx>0:\n",
    "    plt.plot(t, dsets[didx], colors[didx], label=label)  \n",
    "    plt.yticks(np.arange(50, 80, step=2))\n",
    "  didx += 1\n",
    " \n",
    "\n",
    "#fig.autofmt_xdate()\n",
    "\n",
    "plt.show()"
   ]
  },
  {
   "cell_type": "code",
   "execution_count": null,
   "metadata": {},
   "outputs": [],
   "source": []
  },
  {
   "cell_type": "code",
   "execution_count": null,
   "metadata": {},
   "outputs": [],
   "source": []
  }
 ],
 "metadata": {
  "kernelspec": {
   "display_name": "KanjiProjects",
   "language": "python",
   "name": "kanjiprojects"
  },
  "language_info": {
   "codemirror_mode": {
    "name": "ipython",
    "version": 3
   },
   "file_extension": ".py",
   "mimetype": "text/x-python",
   "name": "python",
   "nbconvert_exporter": "python",
   "pygments_lexer": "ipython3",
   "version": "3.7.2"
  }
 },
 "nbformat": 4,
 "nbformat_minor": 2
}
