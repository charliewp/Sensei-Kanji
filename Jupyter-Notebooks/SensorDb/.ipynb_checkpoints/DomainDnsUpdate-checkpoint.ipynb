{
 "cells": [
  {
   "cell_type": "code",
   "execution_count": 70,
   "metadata": {},
   "outputs": [],
   "source": [
    "import requests"
   ]
  },
  {
   "cell_type": "code",
   "execution_count": 71,
   "metadata": {},
   "outputs": [
    {
     "name": "stdout",
     "output_type": "stream",
     "text": [
      "65.188.101.48\n"
     ]
    }
   ],
   "source": [
    "GET_MY_IP_URL = \"http://ipinfo.io/json\"\n",
    "try: \n",
    "  resp = requests.get(GET_MY_IP_URL, timeout=(15, 30))\n",
    "  response = resp.json()\n",
    "  myCurrentIp = response[\"ip\"]\n",
    "  print(myCurrentIp)\n",
    "except (requests.exceptions.ReadTimeout):\n",
    "  print(\"The call to ipinfo.io timed out!\")"
   ]
  },
  {
   "cell_type": "code",
   "execution_count": 76,
   "metadata": {},
   "outputs": [],
   "source": [
    "#GoDaddy Key and Secret\n",
    "#OTE\n",
    "#key = '3mM44UZCUz7vjW_VDKo69fWynUERU8oif6vvs'\n",
    "#secret = 'VDKvEwkNB2FoBTdb8LxX7u'\n",
    "#PROD\n",
    "key = '9EE7irUFoXu_Mhr3XQNr8FbRWCK8oNgWrf'\n",
    "secret = 'Mhr8nFctjmHu5E3FcqBGrP'\n",
    "\n",
    "domain = \"meshio.net\"\n",
    "type = \"A\"\n",
    "name = '@'"
   ]
  },
  {
   "cell_type": "code",
   "execution_count": 77,
   "metadata": {},
   "outputs": [
    {
     "name": "stdout",
     "output_type": "stream",
     "text": [
      "UPDATE_DNS_URL=https://api.ote-godaddy.com/v1/domains/meshio.net\n",
      "headers={'Authorization': 'sso-key 3mM44UZCUz7vjW_VDKo69fWynUERU8oif6vvs:VDKvEwkNB2FoBTdb8LxX7u', 'Content-Type': 'application/json', 'Accept': 'application/json', 'x-debug': 'true'}\n",
      "rc=404\n",
      "{'code': 'NOT_FOUND', 'message': 'Domain meshio.net not found for shopper'}\n",
      "Content-Type : application/json\n",
      "Content-Length : 73\n",
      "Strict-Transport-Security : max-age=15724800; includeSubDomains\n",
      "X-Request-Id : 2a8dcec477b50d818ee062a3ded6a000\n",
      "X-DataCenter : PHX3\n",
      "Expires : Tue, 26 Mar 2019 12:44:59 GMT\n",
      "Cache-Control : max-age=0, no-cache, no-store\n",
      "Pragma : no-cache\n",
      "Date : Tue, 26 Mar 2019 12:44:59 GMT\n",
      "Connection : keep-alive\n"
     ]
    }
   ],
   "source": [
    "#OTE\n",
    "#UPDATE_DNS_URL = \"https://api.ote-godaddy.com/v1/domains/{0}\".format(domain)\n",
    "#PROD\n",
    "UPDATE_DNS_URL = \"https://api.godaddy.com/v1/domains/{0}\".format(domain)\n",
    "\n",
    "#UPDATE_DNS_URL = \"https://api.ote-godaddy.com/v1/domains/{0}/records/{1}/{2}\".format(domain,type,name)\n",
    "#UPDATE_DNS_URL = \"https://api.ote-godaddy.com/v1/domains/available?domain=holobox.com\"\n",
    "print(\"UPDATE_DNS_URL={0}\".format(UPDATE_DNS_URL))\n",
    "try: \n",
    "  headers = {}\n",
    "  headers[\"Authorization\"] = \"sso-key {0}:{1}\".format(key,secret)\n",
    "  headers[\"Content-Type\"] = \"application/json\"\n",
    "  headers[\"Accept\"] = \"application/json\"\n",
    "  headers[\"x-debug\"] = \"true\"\n",
    "  print(\"headers={0}\".format(headers))\n",
    "  resp = requests.get(UPDATE_DNS_URL, headers=headers, timeout=(15, 30))\n",
    "  print(\"rc={0}\".format(resp.status_code))\n",
    "  response = resp.json()  \n",
    "  print(response)\n",
    "  for header in resp.headers:\n",
    "        print(\"{0} : {1}\".format(header, resp.headers[header]))\n",
    "except (requests.exceptions.ReadTimeout):\n",
    "  print(\"The call to godaddy API timed out!\")"
   ]
  },
  {
   "cell_type": "code",
   "execution_count": null,
   "metadata": {},
   "outputs": [],
   "source": []
  }
 ],
 "metadata": {
  "kernelspec": {
   "display_name": "KanjiProjects",
   "language": "python",
   "name": "kanjiprojects"
  },
  "language_info": {
   "codemirror_mode": {
    "name": "ipython",
    "version": 3
   },
   "file_extension": ".py",
   "mimetype": "text/x-python",
   "name": "python",
   "nbconvert_exporter": "python",
   "pygments_lexer": "ipython3",
   "version": "3.7.2"
  }
 },
 "nbformat": 4,
 "nbformat_minor": 2
}
