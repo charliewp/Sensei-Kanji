{
 "cells": [
  {
   "cell_type": "code",
   "execution_count": 1,
   "metadata": {},
   "outputs": [
    {
     "name": "stdout",
     "output_type": "stream",
     "text": [
      "Welcome to Jupyter Notebook.  You are connected to the SensorNet database!\n"
     ]
    }
   ],
   "source": [
    "import psycopg2 as pg\n",
    "import pandas.io.sql as psql\n",
    "from datetime import datetime\n",
    "conn_str = \"host={0} port={1} dbname={2} user={3} password={4}\" \\\n",
    ".format(\"localhost\", 5432, \"sensordb\", \"postgres\", \"w0lfpack\")\n",
    "\n",
    "try:\n",
    "    conn = pg.connect(conn_str)\n",
    "    print(\"Welcome to Jupyter Notebook.  You are connected to the SensorNet database!\")\n",
    "except pg.OperationalError:\n",
    "    print(\"You are not connected to the database.\")"
   ]
  },
  {
   "cell_type": "code",
   "execution_count": 6,
   "metadata": {},
   "outputs": [
    {
     "name": "stdout",
     "output_type": "stream",
     "text": [
      "SELECT description, topic FROM sensordb_publishtopic topic\n",
      "Today is 2019-02-13 14:35:50.718770\n",
      "The query returned the following:\n",
      "     description            topic\n",
      "0          HELLO     sensei/hello\n",
      "1   Normal to Hi  sensei/alert/hi\n",
      "2   Hi to Normal  sensei/clear/hi\n",
      "3      Hi to Low  sensei/panic/lo\n",
      "4  Normal to Low  sensei/alert/lo\n",
      "5  Low to Normal  sensei/clear/lo\n",
      "6      Low to Hi  sensei/panic/hi\n",
      "7          AWAKE     sensei/awake\n",
      "8       WATCHDOG  sensei/watchdog\n"
     ]
    }
   ],
   "source": [
    "query = \"SELECT description, topic FROM sensordb_publishtopic topic\" \n",
    "print(query)\n",
    "\n",
    "print(\"Today is {0}\".format(datetime.now()))\n",
    "df1 = psql.read_sql(query, conn)\n",
    "nRows = df1.size\n",
    "if nRows > 0:\n",
    "    print(\"The query returned the following:\")\n",
    "    print(df1.head(10000))\n",
    "else:\n",
    "    print(\"The query returned empty.\")"
   ]
  },
  {
   "cell_type": "code",
   "execution_count": null,
   "metadata": {},
   "outputs": [],
   "source": []
  }
 ],
 "metadata": {
  "kernelspec": {
   "display_name": "Python 3",
   "language": "python",
   "name": "python3"
  },
  "language_info": {
   "codemirror_mode": {
    "name": "ipython",
    "version": 3
   },
   "file_extension": ".py",
   "mimetype": "text/x-python",
   "name": "python",
   "nbconvert_exporter": "python",
   "pygments_lexer": "ipython3",
   "version": "3.6.4"
  }
 },
 "nbformat": 4,
 "nbformat_minor": 2
}
